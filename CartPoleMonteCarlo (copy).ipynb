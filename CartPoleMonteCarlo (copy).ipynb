{
 "cells": [
  {
   "cell_type": "code",
   "execution_count": 1,
   "metadata": {
    "collapsed": false
   },
   "outputs": [
    {
     "name": "stderr",
     "output_type": "stream",
     "text": [
      "[2017-05-19 12:34:47,498] Making new env: CartPole-v0\n"
     ]
    }
   ],
   "source": [
    "import numpy as np\n",
    "import matplotlib.pyplot as plt\n",
    "from collections import defaultdict\n",
    "import gym\n",
    "import pickle\n",
    "env = gym.make('CartPole-v0')\n"
   ]
  },
  {
   "cell_type": "markdown",
   "metadata": {},
   "source": [
    "# Cartpole Information\n",
    "- **Cartpole Source**: https://github.com/openai/gym/blob/874b6fe2afe5b241c18a973979e4094948116db1/gym/envs/classic_control/cartpole.py\n",
    "- Reward is always 1 for each step"
   ]
  },
  {
   "cell_type": "markdown",
   "metadata": {},
   "source": [
    "# Helper Functions"
   ]
  },
  {
   "cell_type": "code",
   "execution_count": 3,
   "metadata": {
    "collapsed": false
   },
   "outputs": [],
   "source": [
    "def histogram(l, title=\"\"):\n",
    "    plt.hist(l, bins=20)\n",
    "    ax = plt.axes()\n",
    "    ax.set_title(title)\n",
    "    plt.show()\n",
    "\n",
    "def histograms(values_list, title_list, width=2):\n",
    "    assert(len(values_list) == len(title_list))\n",
    "    \n",
    "    n_rows = (len(values_list) + width - 1) / width\n",
    "    f, (axs) = plt.subplots(n_rows, width)\n",
    "    \n",
    "    for ax, values, title in zip(axs, values_list, title_list):\n",
    "        ax.hist(values, bins=20)\n",
    "        ax.set_title(title)\n",
    "        \n",
    "    plt.show()\n",
    "\n",
    "def tryPolicy(env, policy_fn, observationToStateFn=lambda x:x, n_episodes=20, max_episode_len=100):\n",
    "    returns = []\n",
    "    episode_lengths = []\n",
    "    \n",
    "    for i_episode in range(n_episodes):\n",
    "        observation = env.reset()\n",
    "        episode_len = max_episode_len\n",
    "        reward_sum = 0\n",
    "        for t in range(episode_len):\n",
    "            state = observationToStateFn(observation)\n",
    "            action_probs = policy_fn(state)\n",
    "            action = np.random.choice(np.arange(len(action_probs)), p=action_probs)\n",
    "            \n",
    "            observation, reward, done, info = env.step(action)\n",
    "            reward_sum += reward\n",
    "            if done:\n",
    "                episode_len = t+1\n",
    "                break\n",
    "        episode_lengths.append(episode_len)\n",
    "        returns.append(reward_sum)\n",
    "    return returns, episode_lengths\n",
    "\n",
    "def pickleSave(var, file_path):\n",
    "    # known errors:\n",
    "    # - defaultdict doesn't work when it uses lambda functions\n",
    "    # - defaultdict can give strange errors; save dict(varr) instead\n",
    "    # - \"import reinforcement_learning as rl\" syntax (use \"from ... import ...\" instead)\n",
    "    if not file_path.endswith('.p'):\n",
    "        file_path += '.p'\n",
    "    pickle.dump(var, open(file_path, \"wb\"))\n",
    "    \n",
    "def pickleLoad(file_path):\n",
    "    if not file_path.endswith('.p'):\n",
    "        file_path += '.p'\n",
    "    return pickle.load(open(file_path, \"rb\"))\n"
   ]
  },
  {
   "cell_type": "markdown",
   "metadata": {},
   "source": [
    "# Action Space Format: Discrete Object\n",
    "- **Discrete source code**: https://github.com/openai/gym/blob/312c8b439c5d164c08e111c99ccd2ba8cf3a5857/gym/spaces/discrete.py\n",
    "- **Instance Variables**: n\n",
    "- **Methods**: sample, contains, repr, eq\n",
    "\n",
    "To take a selected step, enter an integer (eg. env.step(0))"
   ]
  },
  {
   "cell_type": "code",
   "execution_count": 4,
   "metadata": {
    "collapsed": false
   },
   "outputs": [
    {
     "name": "stdout",
     "output_type": "stream",
     "text": [
      "Discrete(2)\n",
      "n: 2\n"
     ]
    }
   ],
   "source": [
    "print env.action_space\n",
    "print \"n:\", env.action_space.n"
   ]
  },
  {
   "cell_type": "markdown",
   "metadata": {},
   "source": [
    "# Observation Space Format: Box Object\n",
    "- **Box Source**: https://github.com/openai/gym/blob/312c8b439c5d164c08e111c99ccd2ba8cf3a5857/gym/spaces/box.py\n",
    "- **Instance Variables**: low, high\n",
    "- **Methods**: sample, contains, to_jsonable, from_jsonable, shape, repr, eq"
   ]
  },
  {
   "cell_type": "code",
   "execution_count": 5,
   "metadata": {
    "collapsed": false
   },
   "outputs": [
    {
     "name": "stdout",
     "output_type": "stream",
     "text": [
      "Box(4,)\n",
      "low: [ -4.80000000e+00  -3.40282347e+38  -4.18879020e-01  -3.40282347e+38]\n",
      "high: [  4.80000000e+00   3.40282347e+38   4.18879020e-01   3.40282347e+38]\n"
     ]
    }
   ],
   "source": [
    "print env.observation_space\n",
    "print \"low:\", env.observation_space.low\n",
    "print \"high:\", env.observation_space.high"
   ]
  },
  {
   "cell_type": "markdown",
   "metadata": {},
   "source": [
    "# Observation Format\n",
    "- Array of 4 floats\n",
    "- [position of cart, velocity of cart, angle of pole, rotation rate of pole]"
   ]
  },
  {
   "cell_type": "markdown",
   "metadata": {
    "collapsed": true
   },
   "source": [
    "## Sample Observation Space"
   ]
  },
  {
   "cell_type": "code",
   "execution_count": 6,
   "metadata": {
    "collapsed": false
   },
   "outputs": [
    {
     "name": "stdout",
     "output_type": "stream",
     "text": [
      "[ 0.01903209  0.00099371  0.01268536 -0.03501358]\n",
      "[ 0.01905197 -0.19430783  0.01198509  0.26164457]\n",
      "[ 0.01516581  0.00064101  0.01721798 -0.02723415]\n",
      "[ 0.01517863  0.19551186  0.0166733  -0.31443527]\n",
      "[ 0.01908887  0.00015642  0.0103846  -0.01654111]\n",
      "[ 0.019092    0.19512791  0.01005377 -0.30592957]\n",
      "[ 0.02299456  0.39010516  0.00393518 -0.59542491]\n",
      "[ 0.03079666  0.58517182 -0.00797332 -0.88686568]\n",
      "[ 0.04250009  0.78040109 -0.02571063 -1.18204441]\n",
      "[ 0.05810812  0.97584711 -0.04935152 -1.48267464]\n",
      "[ 0.07762506  1.17153504 -0.07900501 -1.7903526 ]\n",
      "[ 0.10105576  1.36744923 -0.11481206 -2.10651055]\n",
      "[ 0.12840474  1.17364958 -0.15694227 -1.85140557]\n",
      "[ 0.15187774  0.98056409 -0.19397039 -1.61128878]\n",
      "Episode finished after 14 timesteps\n",
      "[-0.01658712 -0.00440241 -0.03075959  0.04638122]\n",
      "[-0.01667517 -0.19907009 -0.02983196  0.32920273]\n",
      "[-0.02065657 -0.39375494 -0.02324791  0.61233077]\n",
      "[-0.02853167 -0.58854441 -0.01100129  0.89760175]\n",
      "[-0.04030256 -0.78351552  0.00695074  1.1868064 ]\n",
      "[-0.05597287 -0.97872691  0.03068687  1.48165991]\n",
      "[-0.07554741 -0.78399247  0.06032007  1.19871631]\n",
      "[-0.09122726 -0.97984082  0.08429439  1.50967789]\n",
      "[-0.11082407 -0.78583547  0.11448795  1.24445635]\n",
      "[-0.12654078 -0.59235329  0.13937708  0.98971903]\n",
      "[-0.13838785 -0.7890378   0.15917146  1.32272915]\n",
      "[-0.15416861 -0.98577195  0.18562604  1.66069905]\n",
      "Episode finished after 12 timesteps\n",
      "[-0.00213713  0.00296724 -0.02276817  0.01240625]\n",
      "[-0.00207779  0.19840819 -0.02252004 -0.28737246]\n",
      "[ 0.00189038  0.39384394 -0.02826749 -0.58707207]\n",
      "[ 0.00976725  0.58935014 -0.04000893 -0.88852375]\n",
      "[ 0.02155426  0.39479333 -0.05777941 -0.60868157]\n",
      "[ 0.02945012  0.59067341 -0.06995304 -0.91898907]\n",
      "[ 0.04126359  0.39656322 -0.08833282 -0.64908531]\n",
      "[ 0.04919486  0.5927974  -0.10131453 -0.96822506]\n",
      "[ 0.0610508   0.39917096 -0.12067903 -0.70901028]\n",
      "[ 0.06903422  0.59573937 -0.13485923 -1.03711206]\n",
      "[ 0.08094901  0.79237086 -0.15560147 -1.3689098 ]\n",
      "[ 0.09679643  0.59950023 -0.18297967 -1.12866156]\n",
      "[ 0.10878643  0.79648483 -0.2055529  -1.47270205]\n",
      "Episode finished after 13 timesteps\n",
      "[ 0.02076491 -0.04310373 -0.0054769  -0.01473994]\n",
      "[ 0.01990284 -0.23814671 -0.0057717   0.27620994]\n",
      "[  1.51399048e-02  -4.33185843e-01  -2.47504275e-04   5.67066894e-01]\n",
      "[ 0.00647619 -0.23806042  0.01109383  0.274306  ]\n",
      "[ 0.00171498 -0.43333889  0.01657995  0.5704672 ]\n",
      "[-0.0069518  -0.23845333  0.0279893   0.28305332]\n",
      "[-0.01172086 -0.04374155  0.03365036 -0.00067217]\n",
      "[-0.0125957   0.15088205  0.03363692 -0.28255097]\n",
      "[-0.00957805  0.34550848  0.0279859  -0.56443807]\n",
      "[-0.00266789  0.54022682  0.01669714 -0.84817443]\n",
      "[  8.13665131e-03   3.44881157e-01  -2.66348767e-04  -5.50288051e-01]\n",
      "[ 0.01503427  0.54000685 -0.01127211 -0.84305488]\n",
      "[ 0.02583441  0.34504054 -0.02813321 -0.55393793]\n",
      "[ 0.03273522  0.54054601 -0.03921197 -0.85535016]\n",
      "[ 0.04354614  0.73617976 -0.05631897 -1.16010058]\n",
      "[ 0.05826974  0.9319884  -0.07952098 -1.46989688]\n",
      "[ 0.07690951  1.12798805 -0.10891892 -1.78632182]\n",
      "[ 0.09946927  0.93424494 -0.14464535 -1.52938816]\n",
      "[ 0.11815417  1.13078478 -0.17523312 -1.86349685]\n",
      "Episode finished after 19 timesteps\n",
      "[-0.04155016  0.00717099  0.03566266 -0.03315613]\n",
      "[-0.04140674 -0.18844375  0.03499954  0.270562  ]\n",
      "[-0.04517562  0.00616173  0.04041078 -0.01087968]\n",
      "[-0.04505238  0.20068154  0.04019318 -0.29054365]\n",
      "[-0.04103875  0.00501021  0.03438231  0.01453992]\n",
      "[-0.04093855  0.19962263  0.03467311 -0.26709979]\n",
      "[-0.0369461   0.00402343  0.02933111  0.03631452]\n",
      "[-0.03686563  0.19871276  0.0300574  -0.24697175]\n",
      "[-0.03289137  0.00317471  0.02511797  0.05503839]\n",
      "[-0.03282788 -0.19229822  0.02621874  0.3555392 ]\n",
      "[-0.03667384 -0.38778295  0.03332952  0.65637294]\n",
      "[-0.0444295  -0.58335265  0.04645698  0.95936163]\n",
      "[-0.05609655 -0.77906732  0.06564421  1.26627033]\n",
      "[-0.0716779  -0.58484264  0.09096962  0.99484633]\n",
      "[-0.08337475 -0.39104744  0.11086655  0.73206371]\n",
      "[-0.0911957  -0.58751257  0.12550782  1.05748016]\n",
      "[-0.10294595 -0.78405372  0.14665742  1.38677548]\n",
      "[-0.11862703 -0.98066753  0.17439293  1.72149312]\n",
      "[-0.13824038 -0.78791917  0.2088228   1.487768  ]\n",
      "Episode finished after 19 timesteps\n",
      "[-0.03857131 -0.03072745  0.02981078  0.0345895 ]\n",
      "[-0.03918586 -0.22626394  0.03050257  0.33652698]\n",
      "[-0.04371113 -0.03158904  0.03723311  0.05361684]\n",
      "[-0.04434292 -0.22722454  0.03830544  0.3578107 ]\n",
      "[-0.04888741 -0.42286953  0.04546166  0.66232196]\n",
      "[-0.0573448  -0.22840861  0.0587081   0.38429307]\n",
      "[-0.06191297 -0.42431278  0.06639396  0.69489334]\n",
      "[-0.07039922 -0.23017149  0.08029183  0.42382851]\n",
      "[-0.07500265 -0.03627332  0.0887684   0.1574987 ]\n",
      "[-0.07572812  0.15747297  0.09191837 -0.10591283]\n",
      "[-0.07257866  0.35116569  0.08980011 -0.36823942]\n",
      "[-0.06555535  0.54490454  0.08243533 -0.63131098]\n",
      "[-0.05465726  0.73878543  0.06980911 -0.89693618]\n",
      "[-0.03988155  0.54279009  0.05187038 -0.58315202]\n",
      "[-0.02902575  0.73714845  0.04020734 -0.8590544 ]\n",
      "[-0.01428278  0.93170033  0.02302625 -1.13882859]\n",
      "[  4.35122954e-03   7.36284975e-01   2.49682184e-04  -8.39014142e-01]\n",
      "[ 0.01907693  0.54115962 -0.0165306  -0.5462527 ]\n",
      "[ 0.02990012  0.73650988 -0.02745565 -0.84409784]\n",
      "[ 0.04463032  0.54177314 -0.04433761 -0.56017377]\n",
      "[ 0.05546578  0.34730061 -0.05554109 -0.28178263]\n",
      "[ 0.06241179  0.543169   -0.06117674 -0.59145286]\n",
      "[ 0.07327517  0.73909167 -0.0730058  -0.90276184]\n",
      "[ 0.08805701  0.54503057 -0.09106103 -0.63389022]\n",
      "[ 0.09895762  0.74129686 -0.10373884 -0.95380486]\n",
      "[ 0.11378356  0.547712   -0.12281494 -0.69543321]\n",
      "[ 0.1247378   0.35448812 -0.1367236  -0.4437974 ]\n",
      "[ 0.13182756  0.55125289 -0.14559955 -0.77626183]\n",
      "[ 0.14285262  0.35840141 -0.16112478 -0.5327006 ]\n",
      "[ 0.15002064  0.1658686  -0.1717788  -0.29480806]\n",
      "[ 0.15333802 -0.02644131 -0.17767496 -0.0608437 ]\n",
      "[ 0.15280919  0.17072418 -0.17889183 -0.40389808]\n",
      "[ 0.15622367  0.36787225 -0.18696979 -0.74721503]\n",
      "[ 0.16358112  0.17575413 -0.20191409 -0.5187096 ]\n",
      "Episode finished after 34 timesteps\n",
      "[-0.04387817 -0.00731705  0.00560299 -0.03154159]\n",
      "[-0.04402451 -0.2025189   0.00497216  0.26290385]\n",
      "[-0.04807489 -0.39771147  0.01023023  0.5571509 ]\n",
      "[-0.05602912 -0.59297553  0.02137325  0.8530393 ]\n",
      "[-0.06788863 -0.78838221  0.03843404  1.15236563]\n",
      "[-0.08365628 -0.98398391  0.06148135  1.45684832]\n",
      "[-0.10333595 -0.78966792  0.09061832  1.18398918]\n",
      "[-0.11912931 -0.98584105  0.1142981   1.50364686]\n",
      "[-0.13884613 -0.79227672  0.14437104  1.24872537]\n",
      "[-0.15469167 -0.98892382  0.16934554  1.58292511]\n",
      "[-0.17447014 -0.79617298  0.20100405  1.34748469]\n",
      "Episode finished after 11 timesteps\n",
      "[ 0.02077298 -0.01065063 -0.0400404  -0.00213095]\n",
      "[ 0.02055996  0.185022   -0.04008302 -0.30717339]\n",
      "[ 0.0242604   0.38069151 -0.04622648 -0.61222315]\n",
      "[ 0.03187424  0.57642799 -0.05847095 -0.91909997]\n",
      "[ 0.04340279  0.38214307 -0.07685295 -0.64535129]\n",
      "[ 0.05104566  0.57824709 -0.08975997 -0.96121158]\n",
      "[ 0.0626106   0.77445327 -0.1089842  -1.28069005]\n",
      "[ 0.07809966  0.97078187 -0.134598   -1.60541372]\n",
      "[ 0.0975153   1.16721467 -0.16670628 -1.93685036]\n",
      "[ 0.12085959  0.97422101 -0.20544329 -1.70015812]\n",
      "Episode finished after 10 timesteps\n",
      "[-0.00077578 -0.02578818 -0.03207164 -0.04262663]\n",
      "[-0.00129154  0.16977864 -0.03292417 -0.34525345]\n",
      "[ 0.00210403 -0.02485987 -0.03982924 -0.06313188]\n",
      "[ 0.00160683 -0.2193888  -0.04109188  0.21672341]\n",
      "[-0.00278094 -0.02370424 -0.03675741 -0.08863327]\n",
      "[-0.00325503 -0.21828057 -0.03853008  0.19222983]\n",
      "[-0.00762064 -0.41283075 -0.03468548  0.47251348]\n",
      "[-0.01587725 -0.60744609 -0.02523521  0.75406541]\n",
      "[-0.02802618 -0.80221121 -0.0101539   1.03870171]\n",
      "[-0.0440704  -0.60695581  0.01062013  0.74284851]\n",
      "[-0.05620952 -0.41198205  0.0254771   0.45352662]\n",
      "[-0.06444916 -0.60745482  0.03454764  0.75413009]\n",
      "[-0.07659825 -0.80303561  0.04963024  1.05748119]\n",
      "[-0.09265897 -0.60860515  0.07077986  0.78077992]\n",
      "[-0.10483107 -0.804625    0.08639546  1.0948654 ]\n",
      "[-0.12092357 -0.61074065  0.10829277  0.83049226]\n",
      "[-0.13313838 -0.41725231  0.12490261  0.57373581]\n",
      "[-0.14148343 -0.22408243  0.13637733  0.32286419]\n",
      "[-0.14596508 -0.03113929  0.14283461  0.07610746]\n",
      "[-0.14658786 -0.22798928  0.14435676  0.41022624]\n",
      "[-0.15114765 -0.4248312   0.15256129  0.74471161]\n",
      "[-0.15964427 -0.62169241  0.16745552  1.08125287]\n",
      "[-0.17207812 -0.42912869  0.18908058  0.8454498 ]\n",
      "[-0.18066069 -0.62625753  0.20598957  1.1911321 ]\n",
      "Episode finished after 24 timesteps\n",
      "[ 0.0254757  -0.04666649 -0.03974659 -0.00341474]\n",
      "[ 0.02454237  0.14900228 -0.03981488 -0.30836851]\n",
      "[ 0.02752241  0.34466825 -0.04598225 -0.61333735]\n",
      "[ 0.03441578  0.15021802 -0.058249   -0.33548432]\n",
      "[ 0.03742014  0.34611848 -0.06495868 -0.64595217]\n",
      "[ 0.04434251  0.15195895 -0.07787773 -0.37441155]\n",
      "[ 0.04738169 -0.04197538 -0.08536596 -0.10726467]\n",
      "[ 0.04654218  0.15425957 -0.08751125 -0.42561233]\n",
      "[ 0.04962737 -0.03952088 -0.0960235  -0.16174945]\n",
      "[ 0.04883695  0.15683522 -0.09925849 -0.48311431]\n",
      "[ 0.05197366  0.35320769 -0.10892077 -0.80535727]\n",
      "[ 0.05903781  0.159734   -0.12502792 -0.54882595]\n",
      "[ 0.06223249 -0.03343035 -0.13600444 -0.29800365]\n",
      "[ 0.06156388  0.16334171 -0.14196451 -0.63029829]\n",
      "[ 0.06483072 -0.02954381 -0.15457048 -0.38547818]\n",
      "[ 0.06423984  0.16739589 -0.16228004 -0.72262877]\n",
      "[ 0.06758776 -0.0251539  -0.17673262 -0.48510002]\n",
      "[ 0.06708468  0.17196401 -0.18643462 -0.82786057]\n",
      "[ 0.07052396 -0.0201866  -0.20299183 -0.59912401]\n",
      "Episode finished after 19 timesteps\n",
      "[ 0.01392477  0.01455023  0.03220745 -0.00556542]\n",
      "[ 0.01421578 -0.18101846  0.03209614  0.29710283]\n",
      "[ 0.01059541  0.0136316   0.0380382   0.01471277]\n",
      "[ 0.01086804 -0.18201464  0.03833245  0.31915037]\n",
      "[ 0.00722775 -0.37766096  0.04471546  0.62367126]\n",
      "[ -3.25472500e-04  -5.73377766e-01   5.71888839e-02   9.30094979e-01]\n",
      "[-0.01179303 -0.37907241  0.07579078  0.6559178 ]\n",
      "[-0.01937448 -0.57516311  0.08890914  0.97147062]\n",
      "[-0.03087774 -0.3813396   0.10833855  0.70798857]\n",
      "[-0.03850453 -0.57778222  0.12249832  1.03271419]\n",
      "[-0.05006017 -0.3844836   0.14315261  0.78086349]\n",
      "[-0.05774985 -0.58125273  0.15876988  1.11494137]\n",
      "[-0.0693749  -0.77806188  0.1810687   1.45292454]\n",
      "Episode finished after 13 timesteps\n",
      "[ 0.02545937  0.00066973  0.01347351  0.03243505]\n",
      "[ 0.02547276 -0.19464282  0.01412222  0.32933838]\n",
      "[ 0.02157991 -0.38996294  0.02070898  0.62644112]\n",
      "[ 0.01378065 -0.19513608  0.03323781  0.34035151]\n",
      "[ 0.00987793 -0.3907148   0.04004484  0.64332767]\n",
      "[ 0.00206363 -0.58637133  0.05291139  0.94834722]\n",
      "[-0.0096638  -0.39200017  0.07187833  0.67274719]\n",
      "[-0.0175038  -0.58804372  0.08533328  0.98716724]\n",
      "[-0.02926468 -0.78419825  0.10507662  1.30538597]\n",
      "[-0.04494864 -0.98048373  0.13118434  1.62902599]\n",
      "[-0.06455831 -0.78712507  0.16376486  1.37993777]\n",
      "[-0.08030082 -0.98386835  0.19136362  1.71903615]\n",
      "Episode finished after 12 timesteps\n",
      "[ 0.03826887  0.04522669  0.03448268  0.02592018]\n",
      "[ 0.03917341  0.2398376   0.03500109 -0.25568675]\n",
      "[ 0.04397016  0.04423385  0.02988735  0.04782739]\n",
      "[ 0.04485483  0.23891477  0.0308439  -0.23527801]\n",
      "[ 0.04963313  0.04336603  0.02613834  0.06697226]\n",
      "[ 0.05050045 -0.15212073  0.02747779  0.36778603]\n",
      "[ 0.04745804  0.04260022  0.03483351  0.08389232]\n",
      "[ 0.04831004  0.23720598  0.03651135 -0.19760026]\n",
      "[ 0.05305416  0.04158133  0.03255935  0.1063731 ]\n",
      "[ 0.05388579 -0.15399172  0.03468681  0.40914794]\n",
      "[ 0.05080595 -0.34958785  0.04286977  0.71256154]\n",
      "[ 0.0438142  -0.15508487  0.057121    0.43367497]\n",
      "[ 0.0407125   0.03918381  0.0657945   0.15953167]\n",
      "[ 0.04149617 -0.15681539  0.06898513  0.47222397]\n",
      "[ 0.03835987 -0.3528404   0.07842961  0.78582766]\n",
      "[ 0.03130306 -0.54894726  0.09414616  1.10211836]\n",
      "[ 0.02032411 -0.74517315  0.11618853  1.42279182]\n",
      "[ 0.00542065 -0.94152442  0.14464437  1.74941557]\n",
      "[-0.01340984 -0.74831142  0.17963268  1.5049999 ]\n",
      "Episode finished after 19 timesteps\n",
      "[-0.03713004  0.02717486 -0.03659312  0.02903488]\n",
      "[-0.03658654  0.22280195 -0.03601242 -0.27496529]\n",
      "[-0.0321305   0.02821183 -0.04151173  0.00614528]\n",
      "[-0.03156626 -0.16629096 -0.04138882  0.28544717]\n",
      "[-0.03489208 -0.36079894 -0.03567988  0.56479443]\n",
      "[-0.04210806 -0.16519503 -0.02438399  0.26108766]\n",
      "[-0.04541196  0.03026636 -0.01916224 -0.03918545]\n",
      "[-0.04480663  0.22565778 -0.01994595 -0.33785213]\n",
      "[-0.04029348  0.03082526 -0.02670299 -0.0515252 ]\n",
      "[-0.03967697 -0.16390383 -0.02773349  0.23261455]\n",
      "[-0.04295505  0.03160319 -0.0230812  -0.06868581]\n",
      "[-0.04232299  0.22704832 -0.02445492 -0.36856069]\n",
      "[-0.03778202  0.42250906 -0.03182613 -0.66885316]\n",
      "[-0.02933184  0.61805876 -0.04520319 -0.97138447]\n",
      "[-0.01697066  0.42357167 -0.06463088 -0.69323704]\n",
      "[-0.00849923  0.22940302 -0.07849563 -0.42158042]\n",
      "[-0.00391117  0.03547585 -0.08692723 -0.15463939]\n",
      "[-0.00320165  0.23172793 -0.09002002 -0.47343044]\n",
      "[ 0.00143291  0.42799822 -0.09948863 -0.79307395]\n",
      "[ 0.00999287  0.2343725  -0.11535011 -0.53327301]\n",
      "[ 0.01468032  0.43091168 -0.12601557 -0.85996041]\n",
      "[ 0.02329855  0.23771053 -0.14321478 -0.60940725]\n",
      "[ 0.02805276  0.04485027 -0.15540292 -0.3650399 ]\n",
      "[ 0.02894977  0.24179986 -0.16270372 -0.70240898]\n",
      "[ 0.03378577  0.04926205 -0.1767519  -0.46504069]\n",
      "[ 0.03477101  0.24638338 -0.18605271 -0.80781087]\n",
      "[ 0.03969868  0.44350115 -0.20220893 -1.15276921]\n",
      "Episode finished after 27 timesteps\n",
      "[-0.00798072 -0.00266383 -0.00634356  0.03670716]\n",
      "[-0.00803399  0.19254851 -0.00560941 -0.25797045]\n",
      "[-0.00418302 -0.00249291 -0.01076882  0.03293792]\n",
      "[-0.00423288 -0.19745879 -0.01011006  0.32220381]\n",
      "[-0.00818206 -0.39243532 -0.00366599  0.61168135]\n",
      "[-0.01603076 -0.19726232  0.00856764  0.31784603]\n",
      "[-0.01997601 -0.00226344  0.01492456  0.02787729]\n",
      "[-0.02002128  0.19264134  0.01548211 -0.26005965]\n",
      "[-0.01616845 -0.00269817  0.01028091  0.03746604]\n",
      "[-0.01622242  0.19227486  0.01103023 -0.2519555 ]\n",
      "[-0.01237692  0.38723758  0.00599112 -0.54113897]\n",
      "[-0.00463217  0.58227481 -0.00483166 -0.83192819]\n",
      "[ 0.00701333  0.77746246 -0.02147022 -1.12612674]\n",
      "[ 0.02256258  0.58262833 -0.04399276 -0.84025468]\n",
      "[ 0.03421514  0.38813372 -0.06079785 -0.56172473]\n",
      "[ 0.04197782  0.58405383 -0.07203234 -0.87292546]\n",
      "[ 0.05365889  0.78007746 -0.08949085 -1.18735762]\n",
      "[ 0.06926044  0.58622247 -0.11323801 -0.92401394]\n",
      "[ 0.08098489  0.39279725 -0.13171828 -0.6689552 ]\n",
      "[ 0.08884084  0.19972891 -0.14509739 -0.4204746 ]\n",
      "[ 0.09283542  0.39657662 -0.15350688 -0.75515252]\n",
      "[ 0.10076695  0.59344381 -0.16860993 -1.09193483]\n",
      "[ 0.11263583  0.40089596 -0.19044863 -0.8565456 ]\n",
      "[ 0.12065374  0.59803126 -0.20757954 -1.20255611]\n",
      "Episode finished after 24 timesteps\n",
      "[-0.01585798 -0.02989722 -0.01069548 -0.03053744]\n",
      "[-0.01645593  0.16537647 -0.01130623 -0.32657562]\n",
      "[-0.0131484   0.36065755 -0.01783774 -0.62280249]\n",
      "[-0.00593525  0.55602397 -0.03029379 -0.92104951]\n",
      "[ 0.00518523  0.36132421 -0.04871478 -0.63803888]\n",
      "[ 0.01241171  0.16691419 -0.06147556 -0.36108628]\n",
      "[ 0.01575    -0.02728252 -0.06869728 -0.08840392]\n",
      "[ 0.01520435  0.16875345 -0.07046536 -0.40194539]\n",
      "[ 0.01857942 -0.02530198 -0.07850427 -0.1322843 ]\n",
      "[ 0.01807338  0.1708516  -0.08114995 -0.44866504]\n",
      "[ 0.02149041 -0.02303434 -0.09012326 -0.1826251 ]\n",
      "[ 0.02102972  0.17325385 -0.09377576 -0.50232287]\n",
      "[ 0.0244948   0.36956382 -0.10382222 -0.8230237 ]\n",
      "[ 0.03188608  0.17600378 -0.12028269 -0.56471596]\n",
      "[ 0.03540615 -0.01724347 -0.13157701 -0.31221737]\n",
      "[ 0.03506128 -0.21026949 -0.13782136 -0.06375318]\n",
      "[ 0.03085589 -0.01346825 -0.13909642 -0.39654715]\n",
      "[ 0.03058653 -0.20637092 -0.14702736 -0.15075042]\n",
      "[ 0.02645911 -0.39911511 -0.15004237  0.0921761 ]\n",
      "[ 0.01847681 -0.20219668 -0.14819885 -0.24383004]\n",
      "[ 0.01443287 -0.00530299 -0.15307545 -0.57934438]\n",
      "[ 0.01432681  0.19159526 -0.16466234 -0.91606684]\n",
      "[ 0.01815872  0.3885149  -0.18298367 -1.25564318]\n",
      "[ 0.02592902  0.19614518 -0.20809654 -1.02540347]\n",
      "Episode finished after 24 timesteps\n",
      "[ 0.03981085 -0.03394533  0.0036039  -0.03717902]\n",
      "[ 0.03913194 -0.22911878  0.00286032  0.25663879]\n",
      "[ 0.03454957 -0.42428145  0.00799309  0.55022254]\n",
      "[ 0.02606394 -0.61951475  0.01899754  0.84541308]\n",
      "[ 0.01367364 -0.81489069  0.03590581  1.14400904]\n",
      "[-0.00262417 -0.62025575  0.05878599  0.86279886]\n",
      "[-0.01502928 -0.42598134  0.07604196  0.58916374]\n",
      "[-0.02354891 -0.23200193  0.08782524  0.32137027]\n",
      "[-0.02818895 -0.42825764  0.09425264  0.64040667]\n",
      "[-0.0367541  -0.23456729  0.10706078  0.37882996]\n",
      "[-0.04144545 -0.43103384  0.11463738  0.70325824]\n",
      "[-0.05006612 -0.62754216  0.12870254  1.02971562]\n",
      "[-0.06261697 -0.43434578  0.14929685  0.78005204]\n",
      "[-0.07130388 -0.24155708  0.1648979   0.53781629]\n",
      "[-0.07613502 -0.04909053  0.17565422  0.30129321]\n",
      "[-0.07711684  0.1431497   0.18168009  0.06874722]\n",
      "[-0.07425384  0.33526497  0.18305503 -0.16156221]\n",
      "[-0.06754854  0.52735878  0.17982379 -0.3913706 ]\n",
      "[-0.05700137  0.33020134  0.17199637 -0.04781941]\n",
      "[-0.05039734  0.13308394  0.17103999  0.29381199]\n",
      "[-0.04773566  0.32540714  0.17691622  0.05957762]\n",
      "[-0.04122752  0.51760947  0.17810778 -0.17248331]\n",
      "[-0.03087533  0.70979452  0.17465811 -0.40411326]\n",
      "[-0.01667944  0.90206511  0.16657585 -0.63704254]\n",
      "[ 0.00136186  1.09452057  0.153835   -0.87298273]\n",
      "[ 0.02325228  1.28725376  0.13637534 -1.11361914]\n",
      "[ 0.04899735  1.4803474   0.11410296 -1.36060018]\n",
      "[ 0.0786043   1.67386919  0.08689095 -1.61552172]\n",
      "[ 0.11208168  1.86786532  0.05458052 -1.8799043 ]\n",
      "[ 0.14943899  2.0623518   0.01698243 -2.15516088]\n",
      "[ 0.19068603  1.86706742 -0.02612078 -1.85728395]\n",
      "[ 0.22802737  1.67224173 -0.06326646 -1.57282375]\n",
      "[ 0.26147221  1.47792894 -0.09472294 -1.30052563]\n",
      "[ 0.29103079  1.28412813 -0.12073345 -1.0389345 ]\n",
      "[ 0.31671335  1.4806294  -0.14151214 -1.36695024]\n",
      "[ 0.34632594  1.67721061 -0.16885115 -1.70034033]\n",
      "[ 0.37987015  1.87382807 -0.20285795 -2.0404789 ]\n",
      "Episode finished after 37 timesteps\n",
      "[ 0.03724302 -0.02529314 -0.01624984 -0.04998532]\n",
      "[ 0.03673716  0.17005801 -0.01724955 -0.3477506 ]\n",
      "[ 0.04013832  0.36542101 -0.02420456 -0.64582261]\n",
      "[ 0.04744674  0.56087172 -0.03712101 -0.94602826]\n",
      "[ 0.05866418  0.75647344 -0.05604158 -1.25013978]\n",
      "[ 0.07379365  0.95226708 -0.08104438 -1.55983677]\n",
      "[ 0.09283899  1.14826008 -0.11224111 -1.87666229]\n",
      "[ 0.11580419  1.34441335 -0.14977436 -2.20197041]\n",
      "[ 0.14269246  1.15101662 -0.19381377 -1.95899222]\n",
      "Episode finished after 9 timesteps\n",
      "[-0.02260013 -0.04735049 -0.00445553  0.03163438]\n",
      "[-0.02354714 -0.24240826 -0.00382284  0.32290822]\n",
      "[-0.02839531 -0.43747557  0.00263532  0.61438313]\n",
      "[-0.03714482 -0.24239054  0.01492299  0.32253139]\n",
      "[-0.04199263 -0.04748424  0.02137361  0.03459168]\n",
      "[-0.04294231 -0.24290607  0.02206545  0.33394084]\n",
      "[-0.04780044 -0.048105    0.02874427  0.04829708]\n",
      "[-0.04876254 -0.24362708  0.02971021  0.3499087 ]\n",
      "[-0.05363508 -0.43915869  0.03670838  0.6518102 ]\n",
      "[-0.06241825 -0.24456669  0.04974458  0.37090867]\n",
      "[-0.06730958 -0.44035878  0.05716276  0.67885239]\n",
      "[-0.07611676 -0.24607555  0.07073981  0.40470025]\n",
      "[-0.08103827 -0.44212568  0.07883381  0.71882011]\n",
      "[-0.08988078 -0.24817795  0.09321021  0.4519552 ]\n",
      "[-0.09484434 -0.44448596  0.10224932  0.77250311]\n",
      "[-0.10373406 -0.64085499  0.11769938  1.09552718]\n",
      "[-0.11655116 -0.83731366  0.13960992  1.42270014]\n",
      "[-0.13329744 -1.03385863  0.16806393  1.75556123]\n",
      "[-0.15397461 -0.84099373  0.20317515  1.51951846]\n",
      "Episode finished after 19 timesteps\n",
      "[-0.04101322 -0.03623989  0.04702845  0.02360941]\n",
      "[-0.04173802  0.15817719  0.04750064 -0.25387251]\n",
      "[-0.03857448 -0.03758969  0.04242319  0.05340652]\n",
      "[-0.03932627  0.1568991   0.04349132 -0.22559551]\n",
      "[-0.03618829 -0.03881656  0.03897941  0.0804828 ]\n",
      "[-0.03696462  0.15572556  0.04058906 -0.19965168]\n",
      "[-0.03385011 -0.0399527   0.03659603  0.10555388]\n",
      "[-0.03464916 -0.23557947  0.03870711  0.40955438]\n",
      "[-0.03936075 -0.43122821  0.04689819  0.71418472]\n",
      "[-0.04798532 -0.62696696  0.06118189  1.02125303]\n",
      "[-0.06052466 -0.43271118  0.08160695  0.74839081]\n",
      "[-0.06917888 -0.23880414  0.09657477  0.48246405]\n",
      "[-0.07395496 -0.04516845  0.10622405  0.22171282]\n",
      "[-0.07485833 -0.24163569  0.1106583   0.54592379]\n",
      "[-0.07969105 -0.0482283   0.12157678  0.29005431]\n",
      "[-0.08065561 -0.24485514  0.12737787  0.6184731 ]\n",
      "[-0.08555272 -0.44150457  0.13974733  0.94840539]\n",
      "[-0.09438281 -0.24851257  0.15871544  0.70269165]\n",
      "[-0.09935306 -0.0559047   0.17276927  0.46387782]\n",
      "[-0.10047115  0.13640872  0.18204682  0.23024414]\n",
      "[-0.09774298 -0.06078446  0.18665171  0.57437267]\n",
      "[-0.09895867  0.13129811  0.19813916  0.34581074]\n",
      "[-0.0963327   0.32313132  0.20505538  0.12156337]\n",
      "[-0.08987008  0.12575206  0.20748664  0.47129421]\n",
      "Episode finished after 24 timesteps\n"
     ]
    }
   ],
   "source": [
    "observation_sample = []\n",
    "episode_len_sample = []\n",
    "for i_episode in range(20):\n",
    "    observation = env.reset()\n",
    "    episode_len = 100\n",
    "    for t in range(episode_len):\n",
    "        #env.render()\n",
    "        print(observation)\n",
    "        action = env.action_space.sample()\n",
    "        observation, reward, done, info = env.step(action)\n",
    "        observation_sample.append(list(observation))\n",
    "        if done:\n",
    "            print(\"Episode finished after {} timesteps\".format(t+1))\n",
    "            episode_len = t+1\n",
    "            break\n",
    "    episode_len_sample.append(episode_len)\n",
    "observation_sample = np.array(observation_sample)"
   ]
  },
  {
   "cell_type": "code",
   "execution_count": 7,
   "metadata": {
    "collapsed": false
   },
   "outputs": [
    {
     "data": {
      "image/png": "[encoded data removed]",
      "text/plain": [
       "<matplotlib.figure.Figure at 0x5718050>"
      ]
     },
     "metadata": {},
     "output_type": "display_data"
    }
   ],
   "source": [
    "histogram(observation_sample[:,0], \"Cart Position Sample\")"
   ]
  },
  {
   "cell_type": "code",
   "execution_count": 8,
   "metadata": {
    "collapsed": false
   },
   "outputs": [
    {
     "data": {
      "image/png": "[encoded data removed]",
      "text/plain": [
       "<matplotlib.figure.Figure at 0x58e03d0>"
      ]
     },
     "metadata": {},
     "output_type": "display_data"
    }
   ],
   "source": [
    "histogram(observation_sample[:,1], \"Cart Velocity Sample\")"
   ]
  },
  {
   "cell_type": "code",
   "execution_count": 9,
   "metadata": {
    "collapsed": false
   },
   "outputs": [
    {
     "data": {
      "image/png": "[encoded data removed]",
      "text/plain": [
       "<matplotlib.figure.Figure at 0x5ba3a90>"
      ]
     },
     "metadata": {},
     "output_type": "display_data"
    }
   ],
   "source": [
    "histogram(observation_sample[:,2], \"Pole Angle Sample\")"
   ]
  },
  {
   "cell_type": "code",
   "execution_count": 10,
   "metadata": {
    "collapsed": false
   },
   "outputs": [
    {
     "data": {
      "image/png": "[encoded data removed]",
      "text/plain": [
       "<matplotlib.figure.Figure at 0x5ced5d0>"
      ]
     },
     "metadata": {},
     "output_type": "display_data"
    }
   ],
   "source": [
    "histogram(observation_sample[:,3], \"Pole Rotation Rate Sample\")"
   ]
  },
  {
   "cell_type": "code",
   "execution_count": 11,
   "metadata": {
    "collapsed": false
   },
   "outputs": [
    {
     "data": {
      "image/png": "[encoded data removed]",
      "text/plain": [
       "<matplotlib.figure.Figure at 0x5d06cd0>"
      ]
     },
     "metadata": {},
     "output_type": "display_data"
    }
   ],
   "source": [
    "histogram(episode_len_sample, \"Episode Lengths\")"
   ]
  },
  {
   "cell_type": "markdown",
   "metadata": {},
   "source": [
    "# Construct State Space for Algorithm\n",
    "\n",
    "Cartpole has a continuous state space, so we use bins to divide the observation space into a finite set of states for our algorithm."
   ]
  },
  {
   "cell_type": "code",
   "execution_count": 6,
   "metadata": {
    "collapsed": false
   },
   "outputs": [
    {
     "name": "stdout",
     "output_type": "stream",
     "text": [
      "Test that bins are working for the cart position\n",
      "Test passed\n"
     ]
    }
   ],
   "source": [
    "n_bins = 22\n",
    "n_states = n_bins ** 4\n",
    "observation_bound = np.array([4.8, 2.0, 0.4, 3.0])\n",
    "observation_bin_gaps = observation_bound / ((n_bins / 2) - 1)\n",
    "def observationToState(observation):\n",
    "    # Pole Position: [-4.8, 4.8]\n",
    "    # Pole Velocity: [-2, 2]\n",
    "    # Pole Angle: [-0.4, 0.4]\n",
    "    # Pole Rotation Rate: [-3, 3]\n",
    "    result = 0\n",
    "    for i, val in enumerate(observation):\n",
    "        bound = observation_bound[i]\n",
    "        bin_gap = observation_bin_gaps[i]\n",
    "        result *= n_bins\n",
    "        if val < -bound:\n",
    "            bin_index = 0\n",
    "        elif val >= bound:\n",
    "            bin_index = n_bins - 1\n",
    "        else:\n",
    "            bin_index = 1 + int((val + bound) / bin_gap)\n",
    "        \n",
    "        result += bin_index\n",
    "        \n",
    "    return result\n",
    "\n",
    "print \"Test that bins are working for the cart position\"\n",
    "for i, point in enumerate(np.linspace(-4.8, 4.8, num=n_bins - 1)):\n",
    "    # (0.0001 is added due to floating point errors)\n",
    "    state = observationToState([point + 0.0001, -100, -100, -100])\n",
    "    expected_state = (i+1) * (n_bins ** 3)\n",
    "    #print state, expected_state\n",
    "    assert state == expected_state\n",
    "    \n",
    "assert(observationToState([-100] * 4) == 0)\n",
    "print \"Test passed\""
   ]
  },
  {
   "cell_type": "markdown",
   "metadata": {},
   "source": [
    "# Reinforcement Learning using Monte Carlo"
   ]
  },
  {
   "cell_type": "code",
   "execution_count": 31,
   "metadata": {
    "collapsed": false
   },
   "outputs": [
    {
     "name": "stdout",
     "output_type": "stream",
     "text": [
      "Episode 1000/10000.\n",
      "Episode 2000/10000.\n",
      "Episode 3000/10000.\n",
      "Episode 4000/10000.\n",
      "Episode 5000/10000.\n",
      "Episode 6000/10000.\n",
      "Episode 7000/10000.\n",
      "Episode 8000/10000.\n",
      "Episode 9000/10000.\n",
      "Episode 10000/10000.\n"
     ]
    }
   ],
   "source": [
    "from reinforcement_learning import mcControlEpsilonGreedy, makeQDefaultDictFn\n",
    "\n",
    "Q, policy = mcControlEpsilonGreedy(\n",
    "    env, observationToState=observationToState, num_episodes=10000, epsilon=0.1)\n"
   ]
  },
  {
   "cell_type": "code",
   "execution_count": 32,
   "metadata": {
    "collapsed": false
   },
   "outputs": [
    {
     "data": {
      "image/png": "[encoded data removed]",
      "text/plain": [
       "<matplotlib.figure.Figure at 0x5cdbe10>"
      ]
     },
     "metadata": {},
     "output_type": "display_data"
    }
   ],
   "source": [
    "returns, episode_lengths = tryPolicy(\n",
    "    env, policy, observationToState, n_episodes=20, max_episode_len=300)\n",
    "\n",
    "histograms(\n",
    "    [episode_len_sample, episode_lengths], \n",
    "    [\"Random Policy Episode Lengths\", \"MC Trained Policy Episode Lengths\"]\n",
    ")"
   ]
  },
  {
   "cell_type": "markdown",
   "metadata": {},
   "source": [
    "# Load best_q from Previous Save"
   ]
  },
  {
   "cell_type": "code",
   "execution_count": 33,
   "metadata": {
    "collapsed": false
   },
   "outputs": [],
   "source": [
    "#pickleSave(dict(Q), 'best_Q')\n",
    "best_q_dict = pickleLoad('best_Q')\n",
    "Q = defaultdict(makeQDefaultDictFn(env), best_q_dict)"
   ]
  },
  {
   "cell_type": "code",
   "execution_count": 37,
   "metadata": {
    "collapsed": false
   },
   "outputs": [
    {
     "name": "stdout",
     "output_type": "stream",
     "text": [
      "Episode 100000/500000.\n"
     ]
    }
   ],
   "source": [
    "Q, policy = mcControlEpsilonGreedy(\n",
    "    env, default_Q=Q, observationToState=observationToState, num_episodes=100000, epsilon=0.1)"
   ]
  },
  {
   "cell_type": "code",
   "execution_count": 38,
   "metadata": {
    "collapsed": true
   },
   "outputs": [],
   "source": [
    "pickleSave(dict(Q), 'best_Q')\n"
   ]
  },
  {
   "cell_type": "code",
   "execution_count": 39,
   "metadata": {
    "collapsed": false
   },
   "outputs": [
    {
     "data": {
      "image/png": "[encoded data removed]",
      "text/plain": [
       "<matplotlib.figure.Figure at 0x397e850>"
      ]
     },
     "metadata": {},
     "output_type": "display_data"
    }
   ],
   "source": [
    "returns, episode_lengths = tryPolicy(\n",
    "    env, policy, observationToState, n_episodes=20, max_episode_len=300)\n",
    "histograms(\n",
    "    [episode_len_sample, episode_lengths], \n",
    "    [\"Random Policy Episode Lengths\", \"MC Trained Policy Episode Lengths\"]\n",
    ")"
   ]
  },
  {
   "cell_type": "code",
   "execution_count": null,
   "metadata": {
    "collapsed": false
   },
   "outputs": [],
   "source": []
  },
  {
   "cell_type": "markdown",
   "metadata": {},
   "source": [
    "# Try Exploration Initialization\n",
    "Initialize Q values to be very high to encourage exploration"
   ]
  },
  {
   "cell_type": "code",
   "execution_count": 50,
   "metadata": {
    "collapsed": true
   },
   "outputs": [],
   "source": [
    "def makeExploringDefaultDictFn(env):\n",
    "    def exploringDefaultDictFn():\n",
    "        return np.ones(env.action_space.n) * 200\n",
    "    return exploringDefaultDictFn"
   ]
  },
  {
   "cell_type": "code",
   "execution_count": 51,
   "metadata": {
    "collapsed": false
   },
   "outputs": [
    {
     "name": "stdout",
     "output_type": "stream",
     "text": [
      "Episode 1000/10000.\n",
      "Episode 2000/10000.\n",
      "Episode 3000/10000.\n",
      "Episode 4000/10000.\n",
      "Episode 5000/10000.\n",
      "Episode 6000/10000.\n",
      "Episode 7000/10000.\n",
      "Episode 8000/10000.\n",
      "Episode 9000/10000.\n",
      "Episode 10000/10000.\n"
     ]
    }
   ],
   "source": [
    "Q = defaultdict(makeExploringDefaultDictFn(env))\n",
    "Q, policy = mcControlEpsilonGreedy(\n",
    "    env, default_Q=Q, observationToState=observationToState, num_episodes=10000, epsilon=0.1)"
   ]
  },
  {
   "cell_type": "code",
   "execution_count": 52,
   "metadata": {
    "collapsed": false
   },
   "outputs": [
    {
     "data": {
      "image/png": "[encoded data removed]",
      "text/plain": [
       "<matplotlib.figure.Figure at 0x698add0>"
      ]
     },
     "metadata": {},
     "output_type": "display_data"
    }
   ],
   "source": [
    "returns, episode_lengths = tryPolicy(\n",
    "    env, policy, observationToState, n_episodes=20, max_episode_len=300)\n",
    "histograms(\n",
    "    [episode_len_sample, episode_lengths], \n",
    "    [\"Random Policy Episode Lengths\", \"MC Trained Policy Episode Lengths\"]\n",
    ")"
   ]
  },
  {
   "cell_type": "markdown",
   "metadata": {},
   "source": [
    "# Load Explore Model"
   ]
  },
  {
   "cell_type": "code",
   "execution_count": 54,
   "metadata": {
    "collapsed": true
   },
   "outputs": [],
   "source": [
    "#pickleSave(dict(Q), 'best_Q_explore')\n",
    "best_q_explore_dict = pickleLoad('best_Q_explore')\n",
    "Q = defaultdict(makeExploringDefaultDictFn(env), best_q_explore_dict)"
   ]
  },
  {
   "cell_type": "code",
   "execution_count": 57,
   "metadata": {
    "collapsed": false
   },
   "outputs": [
    {
     "name": "stdout",
     "output_type": "stream",
     "text": [
      "Episode 1000/100000.\n",
      "Episode 2000/100000.\n",
      "Episode 3000/100000.\n",
      "Episode 4000/100000.\n",
      "Episode 5000/100000.\n",
      "Episode 6000/100000.\n",
      "Episode 7000/100000.\n",
      "Episode 8000/100000.\n",
      "Episode 9000/100000.\n",
      "Episode 10000/100000.\n",
      "Episode 11000/100000.\n",
      "Episode 12000/100000.\n",
      "Episode 13000/100000.\n",
      "Episode 14000/100000.\n",
      "Episode 15000/100000.\n",
      "Episode 16000/100000.\n",
      "Episode 17000/100000.\n",
      "Episode 18000/100000.\n",
      "Episode 19000/100000.\n",
      "Episode 20000/100000.\n",
      "Episode 21000/100000.\n",
      "Episode 22000/100000.\n",
      "Episode 23000/100000.\n",
      "Episode 24000/100000.\n",
      "Episode 25000/100000.\n",
      "Episode 26000/100000.\n",
      "Episode 27000/100000.\n",
      "Episode 28000/100000.\n",
      "Episode 29000/100000.\n",
      "Episode 30000/100000.\n",
      "Episode 31000/100000.\n",
      "Episode 32000/100000.\n",
      "Episode 33000/100000.\n",
      "Episode 34000/100000.\n",
      "Episode 35000/100000.\n",
      "Episode 36000/100000.\n",
      "Episode 37000/100000.\n",
      "Episode 38000/100000.\n",
      "Episode 39000/100000.\n",
      "Episode 40000/100000.\n",
      "Episode 41000/100000.\n",
      "Episode 42000/100000.\n",
      "Episode 43000/100000.\n",
      "Episode 44000/100000.\n",
      "Episode 45000/100000.\n",
      "Episode 46000/100000.\n",
      "Episode 47000/100000.\n",
      "Episode 48000/100000.\n",
      "Episode 49000/100000.\n",
      "Episode 50000/100000.\n",
      "Episode 51000/100000.\n",
      "Episode 52000/100000.\n",
      "Episode 53000/100000.\n",
      "Episode 54000/100000.\n",
      "Episode 55000/100000.\n",
      "Episode 56000/100000.\n",
      "Episode 57000/100000.\n",
      "Episode 58000/100000.\n",
      "Episode 59000/100000.\n",
      "Episode 60000/100000.\n",
      "Episode 61000/100000.\n",
      "Episode 62000/100000.\n",
      "Episode 63000/100000.\n",
      "Episode 64000/100000.\n",
      "Episode 65000/100000.\n",
      "Episode 66000/100000.\n",
      "Episode 67000/100000.\n",
      "Episode 68000/100000.\n",
      "Episode 69000/100000.\n",
      "Episode 70000/100000.\n",
      "Episode 71000/100000.\n",
      "Episode 72000/100000.\n",
      "Episode 73000/100000.\n",
      "Episode 74000/100000.\n",
      "Episode 75000/100000.\n",
      "Episode 76000/100000.\n",
      "Episode 77000/100000.\n",
      "Episode 78000/100000.\n",
      "Episode 79000/100000.\n",
      "Episode 80000/100000.\n",
      "Episode 81000/100000.\n",
      "Episode 82000/100000.\n",
      "Episode 83000/100000.\n",
      "Episode 84000/100000.\n",
      "Episode 85000/100000.\n",
      "Episode 86000/100000.\n",
      "Episode 87000/100000.\n",
      "Episode 88000/100000.\n",
      "Episode 89000/100000.\n",
      "Episode 90000/100000.\n",
      "Episode 91000/100000.\n",
      "Episode 92000/100000.\n",
      "Episode 93000/100000.\n",
      "Episode 94000/100000.\n",
      "Episode 95000/100000.\n",
      "Episode 96000/100000.\n",
      "Episode 97000/100000.\n",
      "Episode 98000/100000.\n",
      "Episode 99000/100000.\n",
      "Episode 100000/100000.\n"
     ]
    }
   ],
   "source": [
    "Q, policy = mcControlEpsilonGreedy(\n",
    "    env, default_Q=Q, observationToState=observationToState, num_episodes=100000, epsilon=0.1)"
   ]
  },
  {
   "cell_type": "code",
   "execution_count": 59,
   "metadata": {
    "collapsed": true
   },
   "outputs": [],
   "source": [
    "pickleSave(dict(Q), 'best_Q_explore')"
   ]
  },
  {
   "cell_type": "code",
   "execution_count": 58,
   "metadata": {
    "collapsed": false
   },
   "outputs": [
    {
     "data": {
      "image/png": "[encoded data removed]",
      "text/plain": [
       "<matplotlib.figure.Figure at 0x397e290>"
      ]
     },
     "metadata": {},
     "output_type": "display_data"
    }
   ],
   "source": [
    "returns, episode_lengths = tryPolicy(\n",
    "    env, policy, observationToState, n_episodes=20, max_episode_len=300)\n",
    "histograms(\n",
    "    [episode_len_sample, episode_lengths], \n",
    "    [\"Random Policy Episode Lengths\", \"MC Trained Policy Episode Lengths\"]\n",
    ")"
   ]
  },
  {
   "cell_type": "markdown",
   "metadata": {
    "collapsed": true
   },
   "source": [
    "# Try Q Learning With Exploration"
   ]
  },
  {
   "cell_type": "code",
   "execution_count": 20,
   "metadata": {
    "collapsed": false
   },
   "outputs": [
    {
     "name": "stdout",
     "output_type": "stream",
     "text": [
      "Episode 100/10000.\n",
      "Episode 200/10000.\n",
      "Episode 300/10000.\n",
      "Episode 400/10000.\n",
      "Episode 500/10000.\n",
      "Episode 600/10000.\n",
      "Episode 700/10000.\n",
      "Episode 800/10000.\n",
      "Episode 900/10000.\n",
      "Episode 1000/10000.\n",
      "Episode 1100/10000.\n",
      "Episode 1200/10000.\n",
      "Episode 1300/10000.\n",
      "Episode 1400/10000.\n",
      "Episode 1500/10000.\n",
      "Episode 1600/10000.\n",
      "Episode 1700/10000.\n",
      "Episode 1800/10000.\n",
      "Episode 1900/10000.\n",
      "Episode 2000/10000.\n",
      "Episode 2100/10000.\n",
      "Episode 2200/10000.\n",
      "Episode 2300/10000.\n",
      "Episode 2400/10000.\n",
      "Episode 2500/10000.\n",
      "Episode 2600/10000.\n",
      "Episode 2700/10000.\n",
      "Episode 2800/10000.\n",
      "Episode 2900/10000.\n",
      "Episode 3000/10000.\n",
      "Episode 3100/10000.\n",
      "Episode 3200/10000.\n",
      "Episode 3300/10000.\n",
      "Episode 3400/10000.\n",
      "Episode 3500/10000.\n",
      "Episode 3600/10000.\n",
      "Episode 3700/10000.\n",
      "Episode 3800/10000.\n",
      "Episode 3900/10000.\n",
      "Episode 4000/10000.\n",
      "Episode 4100/10000.\n",
      "Episode 4200/10000.\n",
      "Episode 4300/10000.\n",
      "Episode 4400/10000.\n",
      "Episode 4500/10000.\n",
      "Episode 4600/10000.\n",
      "Episode 4700/10000.\n",
      "Episode 4800/10000.\n",
      "Episode 4900/10000.\n",
      "Episode 5000/10000.\n",
      "Episode 5100/10000.\n",
      "Episode 5200/10000.\n",
      "Episode 5300/10000.\n",
      "Episode 5400/10000.\n",
      "Episode 5500/10000.\n",
      "Episode 5600/10000.\n",
      "Episode 5700/10000.\n",
      "Episode 5800/10000.\n",
      "Episode 5900/10000.\n",
      "Episode 6000/10000.\n",
      "Episode 6100/10000.\n",
      "Episode 6200/10000.\n",
      "Episode 6300/10000.\n",
      "Episode 6400/10000.\n",
      "Episode 6500/10000.\n",
      "Episode 6600/10000.\n",
      "Episode 6700/10000.\n",
      "Episode 6800/10000.\n",
      "Episode 6900/10000.\n",
      "Episode 7000/10000.\n",
      "Episode 7100/10000.\n",
      "Episode 7200/10000.\n",
      "Episode 7300/10000.\n",
      "Episode 7400/10000.\n",
      "Episode 7500/10000.\n",
      "Episode 7600/10000.\n",
      "Episode 7700/10000.\n",
      "Episode 7800/10000.\n",
      "Episode 7900/10000.\n",
      "Episode 8000/10000.\n",
      "Episode 8100/10000.\n",
      "Episode 8200/10000.\n",
      "Episode 8300/10000.\n",
      "Episode 8400/10000.\n",
      "Episode 8500/10000.\n",
      "Episode 8600/10000.\n",
      "Episode 8700/10000.\n",
      "Episode 8800/10000.\n",
      "Episode 8900/10000.\n",
      "Episode 9000/10000.\n",
      "Episode 9100/10000.\n",
      "Episode 9200/10000.\n",
      "Episode 9300/10000.\n",
      "Episode 9400/10000.\n",
      "Episode 9500/10000.\n",
      "Episode 9600/10000.\n",
      "Episode 9700/10000.\n",
      "Episode 9800/10000.\n",
      "Episode 9900/10000.\n",
      "Episode 10000/10000.\n",
      "Episode 100/20000.\n",
      "Episode 200/20000.\n",
      "Episode 300/20000.\n",
      "Episode 400/20000.\n",
      "Episode 500/20000.\n",
      "Episode 600/20000.\n",
      "Episode 700/20000.\n",
      "Episode 800/20000.\n",
      "Episode 900/20000.\n",
      "Episode 1000/20000.\n",
      "Episode 1100/20000.\n",
      "Episode 1200/20000.\n",
      "Episode 1300/20000.\n",
      "Episode 1400/20000.\n",
      "Episode 1500/20000.\n",
      "Episode 1600/20000.\n",
      "Episode 1700/20000.\n",
      "Episode 1800/20000.\n",
      "Episode 1900/20000.\n",
      "Episode 2000/20000.\n",
      "Episode 2100/20000.\n",
      "Episode 2200/20000.\n",
      "Episode 2300/20000.\n",
      "Episode 2400/20000.\n",
      "Episode 2500/20000.\n",
      "Episode 2600/20000.\n",
      "Episode 2700/20000.\n",
      "Episode 2800/20000.\n",
      "Episode 2900/20000.\n",
      "Episode 3000/20000.\n",
      "Episode 3100/20000.\n",
      "Episode 3200/20000.\n",
      "Episode 3300/20000.\n",
      "Episode 3400/20000.\n",
      "Episode 3500/20000.\n",
      "Episode 3600/20000.\n",
      "Episode 3700/20000.\n",
      "Episode 3800/20000.\n",
      "Episode 3900/20000.\n",
      "Episode 4000/20000.\n",
      "Episode 4100/20000.\n",
      "Episode 4200/20000.\n",
      "Episode 4300/20000.\n",
      "Episode 4400/20000.\n",
      "Episode 4500/20000.\n",
      "Episode 4600/20000.\n",
      "Episode 4700/20000.\n",
      "Episode 4800/20000.\n",
      "Episode 4900/20000.\n",
      "Episode 5000/20000.\n",
      "Episode 5100/20000.\n",
      "Episode 5200/20000.\n",
      "Episode 5300/20000.\n",
      "Episode 5400/20000.\n",
      "Episode 5500/20000.\n",
      "Episode 5600/20000.\n",
      "Episode 5700/20000.\n",
      "Episode 5800/20000.\n",
      "Episode 5900/20000.\n",
      "Episode 6000/20000.\n",
      "Episode 6100/20000.\n",
      "Episode 6200/20000.\n",
      "Episode 6300/20000.\n",
      "Episode 6400/20000.\n",
      "Episode 6500/20000.\n",
      "Episode 6600/20000.\n",
      "Episode 6700/20000.\n",
      "Episode 6800/20000.\n",
      "Episode 6900/20000.\n",
      "Episode 7000/20000.\n",
      "Episode 7100/20000.\n",
      "Episode 7200/20000.\n",
      "Episode 7300/20000.\n",
      "Episode 7400/20000.\n",
      "Episode 7500/20000.\n",
      "Episode 7600/20000.\n",
      "Episode 7700/20000.\n",
      "Episode 7800/20000.\n",
      "Episode 7900/20000.\n",
      "Episode 8000/20000.\n",
      "Episode 8100/20000.\n",
      "Episode 8200/20000.\n",
      "Episode 8300/20000.\n",
      "Episode 8400/20000.\n",
      "Episode 8500/20000.\n",
      "Episode 8600/20000.\n",
      "Episode 8700/20000.\n",
      "Episode 8800/20000.\n",
      "Episode 8900/20000.\n",
      "Episode 9000/20000.\n",
      "Episode 9100/20000.\n",
      "Episode 9200/20000.\n",
      "Episode 9300/20000.\n",
      "Episode 9400/20000.\n",
      "Episode 9500/20000.\n",
      "Episode 9600/20000.\n",
      "Episode 9700/20000.\n",
      "Episode 9800/20000.\n",
      "Episode 9900/20000.\n",
      "Episode 10000/20000.\n",
      "Episode 10100/20000.\n",
      "Episode 10200/20000.\n",
      "Episode 10300/20000.\n",
      "Episode 10400/20000.\n",
      "Episode 10500/20000.\n",
      "Episode 10600/20000.\n",
      "Episode 10700/20000.\n",
      "Episode 10800/20000.\n",
      "Episode 10900/20000.\n",
      "Episode 11000/20000.\n",
      "Episode 11100/20000.\n",
      "Episode 11200/20000.\n",
      "Episode 11300/20000.\n",
      "Episode 11400/20000.\n",
      "Episode 11500/20000.\n",
      "Episode 11600/20000.\n",
      "Episode 11700/20000.\n",
      "Episode 11800/20000.\n",
      "Episode 11900/20000.\n",
      "Episode 12000/20000.\n",
      "Episode 12100/20000.\n",
      "Episode 12200/20000.\n",
      "Episode 12300/20000.\n",
      "Episode 12400/20000.\n",
      "Episode 12500/20000.\n",
      "Episode 12600/20000.\n",
      "Episode 12700/20000.\n",
      "Episode 12800/20000.\n",
      "Episode 12900/20000.\n",
      "Episode 13000/20000.\n",
      "Episode 13100/20000.\n",
      "Episode 13200/20000.\n",
      "Episode 13300/20000.\n",
      "Episode 13400/20000.\n",
      "Episode 13500/20000.\n",
      "Episode 13600/20000.\n",
      "Episode 13700/20000.\n",
      "Episode 13800/20000.\n",
      "Episode 13900/20000.\n",
      "Episode 14000/20000.\n",
      "Episode 14100/20000.\n",
      "Episode 14200/20000.\n",
      "Episode 14300/20000.\n",
      "Episode 14400/20000.\n",
      "Episode 14500/20000.\n",
      "Episode 14600/20000.\n",
      "Episode 14700/20000.\n",
      "Episode 14800/20000.\n",
      "Episode 14900/20000.\n",
      "Episode 15000/20000.\n",
      "Episode 15100/20000.\n",
      "Episode 15200/20000.\n",
      "Episode 15300/20000.\n",
      "Episode 15400/20000.\n",
      "Episode 15500/20000.\n",
      "Episode 15600/20000.\n",
      "Episode 15700/20000.\n",
      "Episode 15800/20000.\n",
      "Episode 15900/20000.\n",
      "Episode 16000/20000.\n",
      "Episode 16100/20000.\n",
      "Episode 16200/20000.\n",
      "Episode 16300/20000.\n",
      "Episode 16400/20000.\n",
      "Episode 16500/20000.\n",
      "Episode 16600/20000.\n",
      "Episode 16700/20000.\n",
      "Episode 16800/20000.\n",
      "Episode 16900/20000.\n",
      "Episode 17000/20000.\n",
      "Episode 17100/20000.\n",
      "Episode 17200/20000.\n",
      "Episode 17300/20000.\n",
      "Episode 17400/20000.\n",
      "Episode 17500/20000.\n",
      "Episode 17600/20000.\n",
      "Episode 17700/20000.\n",
      "Episode 17800/20000.\n",
      "Episode 17900/20000.\n",
      "Episode 18000/20000.\n",
      "Episode 18100/20000.\n",
      "Episode 18200/20000.\n",
      "Episode 18300/20000.\n",
      "Episode 18400/20000.\n",
      "Episode 18500/20000.\n",
      "Episode 18600/20000.\n",
      "Episode 18700/20000.\n",
      "Episode 18800/20000.\n",
      "Episode 18900/20000.\n",
      "Episode 19000/20000.\n",
      "Episode 19100/20000.\n",
      "Episode 19200/20000.\n",
      "Episode 19300/20000.\n",
      "Episode 19400/20000.\n",
      "Episode 19500/20000.\n",
      "Episode 19600/20000.\n",
      "Episode 19700/20000.\n",
      "Episode 19800/20000.\n",
      "Episode 19900/20000.\n",
      "Episode 20000/20000.\n",
      "Episode 100/20000.\n",
      "Episode 200/20000.\n",
      "Episode 300/20000.\n",
      "Episode 400/20000.\n",
      "Episode 500/20000.\n",
      "Episode 600/20000.\n",
      "Episode 700/20000.\n",
      "Episode 800/20000.\n",
      "Episode 900/20000.\n",
      "Episode 1000/20000.\n",
      "Episode 1100/20000.\n",
      "Episode 1200/20000.\n",
      "Episode 1300/20000.\n",
      "Episode 1400/20000.\n",
      "Episode 1500/20000.\n",
      "Episode 1600/20000.\n",
      "Episode 1700/20000.\n",
      "Episode 1800/20000.\n",
      "Episode 1900/20000.\n",
      "Episode 2000/20000.\n",
      "Episode 2100/20000.\n",
      "Episode 2200/20000.\n",
      "Episode 2300/20000.\n",
      "Episode 2400/20000.\n",
      "Episode 2500/20000.\n",
      "Episode 2600/20000.\n",
      "Episode 2700/20000.\n",
      "Episode 2800/20000.\n",
      "Episode 2900/20000.\n",
      "Episode 3000/20000.\n",
      "Episode 3100/20000.\n",
      "Episode 3200/20000.\n",
      "Episode 3300/20000.\n",
      "Episode 3400/20000.\n",
      "Episode 3500/20000.\n",
      "Episode 3600/20000.\n",
      "Episode 3700/20000.\n",
      "Episode 3800/20000.\n",
      "Episode 3900/20000.\n",
      "Episode 4000/20000.\n",
      "Episode 4100/20000.\n",
      "Episode 4200/20000.\n",
      "Episode 4300/20000.\n",
      "Episode 4400/20000.\n",
      "Episode 4500/20000.\n",
      "Episode 4600/20000.\n",
      "Episode 4700/20000.\n",
      "Episode 4800/20000.\n",
      "Episode 4900/20000.\n",
      "Episode 5000/20000.\n",
      "Episode 5100/20000.\n",
      "Episode 5200/20000.\n",
      "Episode 5300/20000.\n",
      "Episode 5400/20000.\n",
      "Episode 5500/20000.\n",
      "Episode 5600/20000.\n",
      "Episode 5700/20000.\n",
      "Episode 5800/20000.\n",
      "Episode 5900/20000.\n",
      "Episode 6000/20000.\n",
      "Episode 6100/20000.\n",
      "Episode 6200/20000.\n",
      "Episode 6300/20000.\n",
      "Episode 6400/20000.\n",
      "Episode 6500/20000.\n",
      "Episode 6600/20000.\n",
      "Episode 6700/20000.\n",
      "Episode 6800/20000.\n",
      "Episode 6900/20000.\n",
      "Episode 7000/20000.\n",
      "Episode 7100/20000.\n",
      "Episode 7200/20000.\n",
      "Episode 7300/20000.\n",
      "Episode 7400/20000.\n",
      "Episode 7500/20000.\n",
      "Episode 7600/20000.\n",
      "Episode 7700/20000.\n",
      "Episode 7800/20000.\n",
      "Episode 7900/20000.\n",
      "Episode 8000/20000.\n",
      "Episode 8100/20000.\n",
      "Episode 8200/20000.\n",
      "Episode 8300/20000.\n",
      "Episode 8400/20000.\n",
      "Episode 8500/20000.\n",
      "Episode 8600/20000.\n",
      "Episode 8700/20000.\n",
      "Episode 8800/20000.\n",
      "Episode 8900/20000.\n",
      "Episode 9000/20000.\n",
      "Episode 9100/20000.\n",
      "Episode 9200/20000.\n",
      "Episode 9300/20000.\n",
      "Episode 9400/20000.\n",
      "Episode 9500/20000.\n",
      "Episode 9600/20000.\n",
      "Episode 9700/20000.\n",
      "Episode 9800/20000.\n",
      "Episode 9900/20000.\n",
      "Episode 10000/20000.\n",
      "Episode 10100/20000.\n",
      "Episode 10200/20000.\n",
      "Episode 10300/20000.\n",
      "Episode 10400/20000.\n",
      "Episode 10500/20000.\n",
      "Episode 10600/20000.\n",
      "Episode 10700/20000.\n",
      "Episode 10800/20000.\n",
      "Episode 10900/20000.\n",
      "Episode 11000/20000.\n",
      "Episode 11100/20000.\n",
      "Episode 11200/20000.\n",
      "Episode 11300/20000.\n",
      "Episode 11400/20000.\n",
      "Episode 11500/20000.\n",
      "Episode 11600/20000.\n",
      "Episode 11700/20000.\n",
      "Episode 11800/20000.\n",
      "Episode 11900/20000.\n",
      "Episode 12000/20000.\n",
      "Episode 12100/20000.\n",
      "Episode 12200/20000.\n",
      "Episode 12300/20000.\n",
      "Episode 12400/20000.\n",
      "Episode 12500/20000.\n",
      "Episode 12600/20000.\n",
      "Episode 12700/20000.\n",
      "Episode 12800/20000.\n",
      "Episode 12900/20000.\n",
      "Episode 13000/20000.\n",
      "Episode 13100/20000.\n",
      "Episode 13200/20000.\n",
      "Episode 13300/20000.\n",
      "Episode 13400/20000.\n",
      "Episode 13500/20000.\n",
      "Episode 13600/20000.\n",
      "Episode 13700/20000.\n",
      "Episode 13800/20000.\n",
      "Episode 13900/20000.\n",
      "Episode 14000/20000.\n",
      "Episode 14100/20000.\n",
      "Episode 14200/20000.\n",
      "Episode 14300/20000.\n",
      "Episode 14400/20000.\n",
      "Episode 14500/20000.\n",
      "Episode 14600/20000.\n",
      "Episode 14700/20000.\n",
      "Episode 14800/20000.\n",
      "Episode 14900/20000.\n",
      "Episode 15000/20000.\n",
      "Episode 15100/20000.\n",
      "Episode 15200/20000.\n",
      "Episode 15300/20000.\n",
      "Episode 15400/20000.\n",
      "Episode 15500/20000.\n",
      "Episode 15600/20000.\n",
      "Episode 15700/20000.\n",
      "Episode 15800/20000.\n",
      "Episode 15900/20000.\n",
      "Episode 16000/20000.\n",
      "Episode 16100/20000.\n",
      "Episode 16200/20000.\n",
      "Episode 16300/20000.\n",
      "Episode 16400/20000.\n",
      "Episode 16500/20000.\n",
      "Episode 16600/20000.\n",
      "Episode 16700/20000.\n",
      "Episode 16800/20000.\n",
      "Episode 16900/20000.\n",
      "Episode 17000/20000.\n",
      "Episode 17100/20000.\n",
      "Episode 17200/20000.\n",
      "Episode 17300/20000.\n",
      "Episode 17400/20000.\n",
      "Episode 17500/20000.\n",
      "Episode 17600/20000.\n",
      "Episode 17700/20000.\n",
      "Episode 17800/20000.\n",
      "Episode 17900/20000.\n",
      "Episode 18000/20000.\n",
      "Episode 18100/20000.\n",
      "Episode 18200/20000.\n",
      "Episode 18300/20000.\n",
      "Episode 18400/20000.\n",
      "Episode 18500/20000.\n",
      "Episode 18600/20000.\n",
      "Episode 18700/20000.\n",
      "Episode 18800/20000.\n",
      "Episode 18900/20000.\n",
      "Episode 19000/20000.\n",
      "Episode 19100/20000.\n",
      "Episode 19200/20000.\n",
      "Episode 19300/20000.\n",
      "Episode 19400/20000.\n",
      "Episode 19500/20000.\n",
      "Episode 19600/20000.\n",
      "Episode 19700/20000.\n",
      "Episode 19800/20000.\n",
      "Episode 19900/20000.\n",
      "Episode 20000/20000.\n"
     ]
    }
   ],
   "source": [
    "from reinforcement_learning import qLearning\n",
    "\n",
    "def makeExploringDefaultDictFn(env):\n",
    "    def exploringDefaultDictFn():\n",
    "        return np.ones(env.action_space.n) * 50\n",
    "    return exploringDefaultDictFn\n",
    "\n",
    "#Q = defaultdict(makeExploringDefaultDictFn(env))\n",
    "Q = qLearning(\n",
    "    env, num_episodes=10000, observationToState=observationToState, default_Q=Q, epsilon=0.1, alpha=0.5)\n",
    "Q = qLearning(\n",
    "    env, num_episodes=20000, observationToState=observationToState, default_Q=Q, epsilon=0.05, alpha=0.25)\n",
    "Q = qLearning(\n",
    "    env, num_episodes=20000, observationToState=observationToState, default_Q=Q, epsilon=0.02, alpha=0.1)"
   ]
  },
  {
   "cell_type": "code",
   "execution_count": 21,
   "metadata": {
    "collapsed": false
   },
   "outputs": [
    {
     "data": {
      "image/png": "[encoded data removed]",
      "text/plain": [
       "<matplotlib.figure.Figure at 0x4d8e050>"
      ]
     },
     "metadata": {},
     "output_type": "display_data"
    }
   ],
   "source": [
    "from reinforcement_learning import makeEpsilonGreedyPolicy\n",
    "\n",
    "policy = makeEpsilonGreedyPolicy(Q, 0, env.action_space.n)\n",
    "\n",
    "returns, episode_lengths = tryPolicy(\n",
    "    env, policy, observationToState, n_episodes=100, max_episode_len=300)\n",
    "histogram(episode_lengths, \"MC Trained Policy Episode Lengths\")"
   ]
  },
  {
   "cell_type": "code",
   "execution_count": null,
   "metadata": {
    "collapsed": false
   },
   "outputs": [],
   "source": []
  },
  {
   "cell_type": "code",
   "execution_count": null,
   "metadata": {
    "collapsed": true
   },
   "outputs": [],
   "source": []
  }
 ],
 "metadata": {
  "kernelspec": {
   "display_name": "Python 2",
   "language": "python",
   "name": "python2"
  },
  "language_info": {
   "codemirror_mode": {
    "name": "ipython",
    "version": 2
   },
   "file_extension": ".py",
   "mimetype": "text/x-python",
   "name": "python",
   "nbconvert_exporter": "python",
   "pygments_lexer": "ipython2",
   "version": "2.7.5"
  }
 },
 "nbformat": 4,
 "nbformat_minor": 2
}
